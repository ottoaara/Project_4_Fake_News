{
 "cells": [
  {
   "cell_type": "markdown",
   "id": "d689ebc2",
   "metadata": {},
   "source": [
    "# Project 4\n",
    "#### Aaron Otto, Ayan Khalif, Kirsten Rain, Ryan Cornelius\n",
    "\n",
    "\n",
    "##### See readme\n",
    "\n",
    "\n"
   ]
  },
  {
   "cell_type": "markdown",
   "id": "b7333467",
   "metadata": {},
   "source": [
    "## Part 1 \n",
    "\n",
    "#### Loads in a tab seperated dataset of new data. Data was found labelled from https://builtin.com/data-science/data-science-projects (link in number 3)\n",
    "##### This file was initially a CSV in ANSI format, and was converted to a TSV in UTF-8 using notepad++."
   ]
  },
  {
   "cell_type": "code",
   "execution_count": 1,
   "id": "408f3514",
   "metadata": {},
   "outputs": [],
   "source": [
    "# Import Libraries\n",
    "# Libraries for data cleaning\n",
    "import itertools\n",
    "from sklearn.feature_extraction.text import TfidfVectorizer\n",
    "from sklearn.linear_model import PassiveAggressiveClassifier\n",
    "import re \n",
    "from sklearn.feature_extraction.text import ENGLISH_STOP_WORDS\n",
    "from sklearn.model_selection import train_test_split\n",
    "import pandas as pd\n",
    "import numpy as np\n",
    "import matplotlib.pyplot as plt\n",
    "import os\n",
    "\n",
    "#Libraries for NN W2V model\n",
    "import tensorflow as tf\n",
    "from sklearn.metrics import accuracy_score,confusion_matrix\n",
    "from gensim.models import Word2Vec\n",
    "from nltk.tokenize import word_tokenize\n",
    "import multiprocessing\n",
    "import nltk\n",
    "#from sklearn.pipeline import Pipeline\n",
    "\n",
    "#\n",
    "#Installing profiling lib (figured no one else would have this so doing pip incase)\n",
    "#!pip install -U ydata-profiling\n",
    "#!pip install ipywidgets\n",
    "#from ydata_profiling import ProfileReport\n",
    "\n",
    "# Turning Memory warnings off\n",
    "import warnings\n",
    "warnings.filterwarnings('ignore')"
   ]
  },
  {
   "cell_type": "code",
   "execution_count": 2,
   "id": "d8c710a5",
   "metadata": {},
   "outputs": [
    {
     "data": {
      "text/html": [
       "<div>\n",
       "<style scoped>\n",
       "    .dataframe tbody tr th:only-of-type {\n",
       "        vertical-align: middle;\n",
       "    }\n",
       "\n",
       "    .dataframe tbody tr th {\n",
       "        vertical-align: top;\n",
       "    }\n",
       "\n",
       "    .dataframe thead th {\n",
       "        text-align: right;\n",
       "    }\n",
       "</style>\n",
       "<table border=\"1\" class=\"dataframe\">\n",
       "  <thead>\n",
       "    <tr style=\"text-align: right;\">\n",
       "      <th></th>\n",
       "      <th>key</th>\n",
       "      <th>title</th>\n",
       "      <th>text</th>\n",
       "      <th>label</th>\n",
       "    </tr>\n",
       "  </thead>\n",
       "  <tbody>\n",
       "    <tr>\n",
       "      <th>0</th>\n",
       "      <td>1</td>\n",
       "      <td>Scalia’s death comes just a month before the c...</td>\n",
       "      <td>The unexpected death of Justice Antonin Scalia...</td>\n",
       "      <td>REAL</td>\n",
       "    </tr>\n",
       "    <tr>\n",
       "      <th>1</th>\n",
       "      <td>1</td>\n",
       "      <td>Rachel Dolezal's brother: She's 'making up mor...</td>\n",
       "      <td>(CNN) Ezra Dolezal would love to see his siste...</td>\n",
       "      <td>REAL</td>\n",
       "    </tr>\n",
       "    <tr>\n",
       "      <th>2</th>\n",
       "      <td>10001</td>\n",
       "      <td>What A Hillary Presidency Would Bring</td>\n",
       "      <td>Behind the headlines - conspiracies, cover-ups...</td>\n",
       "      <td>FAKE</td>\n",
       "    </tr>\n",
       "    <tr>\n",
       "      <th>3</th>\n",
       "      <td>10004</td>\n",
       "      <td>Hillary Endorsed Donald Trump for President Ac...</td>\n",
       "      <td>Hillary Endorsed Donald Trump for President Ac...</td>\n",
       "      <td>FAKE</td>\n",
       "    </tr>\n",
       "    <tr>\n",
       "      <th>4</th>\n",
       "      <td>10006</td>\n",
       "      <td>US-led coalition killed 300 Syrian civilians i...</td>\n",
       "      <td>RT October 26, 2016 \\r\\nAround 300 civilians w...</td>\n",
       "      <td>FAKE</td>\n",
       "    </tr>\n",
       "  </tbody>\n",
       "</table>\n",
       "</div>"
      ],
      "text/plain": [
       "     key  ... label\n",
       "0      1  ...  REAL\n",
       "1      1  ...  REAL\n",
       "2  10001  ...  FAKE\n",
       "3  10004  ...  FAKE\n",
       "4  10006  ...  FAKE\n",
       "\n",
       "[5 rows x 4 columns]"
      ]
     },
     "execution_count": 2,
     "metadata": {},
     "output_type": "execute_result"
    }
   ],
   "source": [
    "#Loading Data File\n",
    "df = pd.read_table(\"news-utf8.tsv\", delimiter = '\\t')\n",
    "\n",
    "\n",
    "#Removing unecessary columns \n",
    "df =df[['key','title','text','label']]\n",
    "\n",
    "#Dropping any blank rows picked up in excel load\n",
    "df=df.dropna(how ='all')\n",
    "df= df.dropna(subset=['text'])\n",
    "\n",
    "#Formating Key column \n",
    "df['key'] = df['key'].astype(str).str.rstrip('0').str.rstrip('.')\n",
    "\n",
    "#Sorting key column \n",
    "df=df.sort_values(by='key')\n",
    "\n",
    "#Resetting index to correspond with key values asscending \n",
    "df= df.reset_index(drop=True)\n",
    "df.head(5)"
   ]
  },
  {
   "cell_type": "code",
   "execution_count": 3,
   "id": "8469fa68",
   "metadata": {},
   "outputs": [],
   "source": [
    "Stop_list = list(ENGLISH_STOP_WORDS.copy())\n",
    "Stop_list.extend(['s', 't', 'i', 'm', 'd', 'u', 've'])\n",
    "Stop_list.extend(list(np.arange(0,10)))\n",
    "Stop_list = set(Stop_list)\n",
    "ENGLISH_STOP_WORDS = Stop_list"
   ]
  },
  {
   "cell_type": "code",
   "execution_count": 4,
   "id": "0bfabc23",
   "metadata": {},
   "outputs": [
    {
     "data": {
      "text/html": [
       "<div>\n",
       "<style scoped>\n",
       "    .dataframe tbody tr th:only-of-type {\n",
       "        vertical-align: middle;\n",
       "    }\n",
       "\n",
       "    .dataframe tbody tr th {\n",
       "        vertical-align: top;\n",
       "    }\n",
       "\n",
       "    .dataframe thead th {\n",
       "        text-align: right;\n",
       "    }\n",
       "</style>\n",
       "<table border=\"1\" class=\"dataframe\">\n",
       "  <thead>\n",
       "    <tr style=\"text-align: right;\">\n",
       "      <th></th>\n",
       "      <th>key</th>\n",
       "      <th>title</th>\n",
       "      <th>text</th>\n",
       "      <th>label</th>\n",
       "      <th>Words_Text</th>\n",
       "      <th>Words_Title</th>\n",
       "    </tr>\n",
       "  </thead>\n",
       "  <tbody>\n",
       "    <tr>\n",
       "      <th>0</th>\n",
       "      <td>1</td>\n",
       "      <td>Scalia’s death comes just a month before the c...</td>\n",
       "      <td>The unexpected death of Justice Antonin Scalia...</td>\n",
       "      <td>REAL</td>\n",
       "      <td>[the, unexpected, death, of, justice, antonin,...</td>\n",
       "      <td>[scalia, s, death, comes, just, a, month, befo...</td>\n",
       "    </tr>\n",
       "    <tr>\n",
       "      <th>1</th>\n",
       "      <td>1</td>\n",
       "      <td>Rachel Dolezal's brother: She's 'making up mor...</td>\n",
       "      <td>(CNN) Ezra Dolezal would love to see his siste...</td>\n",
       "      <td>REAL</td>\n",
       "      <td>[cnn, ezra, dolezal, would, love, to, see, his...</td>\n",
       "      <td>[rachel, dolezal, s, brother, she, s, making, ...</td>\n",
       "    </tr>\n",
       "    <tr>\n",
       "      <th>2</th>\n",
       "      <td>10001</td>\n",
       "      <td>What A Hillary Presidency Would Bring</td>\n",
       "      <td>Behind the headlines - conspiracies, cover-ups...</td>\n",
       "      <td>FAKE</td>\n",
       "      <td>[behind, the, headlines, conspiracies, cover, ...</td>\n",
       "      <td>[what, a, hillary, presidency, would, bring]</td>\n",
       "    </tr>\n",
       "    <tr>\n",
       "      <th>3</th>\n",
       "      <td>10004</td>\n",
       "      <td>Hillary Endorsed Donald Trump for President Ac...</td>\n",
       "      <td>Hillary Endorsed Donald Trump for President Ac...</td>\n",
       "      <td>FAKE</td>\n",
       "      <td>[hillary, endorsed, donald, trump, for, presid...</td>\n",
       "      <td>[hillary, endorsed, donald, trump, for, presid...</td>\n",
       "    </tr>\n",
       "    <tr>\n",
       "      <th>4</th>\n",
       "      <td>10006</td>\n",
       "      <td>US-led coalition killed 300 Syrian civilians i...</td>\n",
       "      <td>RT October 26, 2016 \\r\\nAround 300 civilians w...</td>\n",
       "      <td>FAKE</td>\n",
       "      <td>[rt, october, 26, 2016, around, 300, civilians...</td>\n",
       "      <td>[us, led, coalition, killed, 300, syrian, civi...</td>\n",
       "    </tr>\n",
       "  </tbody>\n",
       "</table>\n",
       "</div>"
      ],
      "text/plain": [
       "     key  ...                                        Words_Title\n",
       "0      1  ...  [scalia, s, death, comes, just, a, month, befo...\n",
       "1      1  ...  [rachel, dolezal, s, brother, she, s, making, ...\n",
       "2  10001  ...       [what, a, hillary, presidency, would, bring]\n",
       "3  10004  ...  [hillary, endorsed, donald, trump, for, presid...\n",
       "4  10006  ...  [us, led, coalition, killed, 300, syrian, civi...\n",
       "\n",
       "[5 rows x 6 columns]"
      ]
     },
     "execution_count": 4,
     "metadata": {},
     "output_type": "execute_result"
    }
   ],
   "source": [
    "# Tokenize 'text' and 'title' columns and store the result\n",
    "df['Words_Text'] = df['text'].apply(lambda x: re.findall(r'\\b\\w+\\b', str(x).lower()))\n",
    "df['Words_Title'] = df['title'].apply(lambda x: re.findall(r'\\b\\w+\\b', str(x).lower()))\n",
    "df.head()\n"
   ]
  },
  {
   "cell_type": "code",
   "execution_count": 5,
   "id": "bd9567fe",
   "metadata": {},
   "outputs": [],
   "source": [
    "# Define a function to remove stop words from a list of words and join them with commas\n",
    "def process_words(words, stop_words):\n",
    "    filtered_words = [word for word in words if word not in stop_words and len(word) > 2]\n",
    "    return list(filtered_words)\n"
   ]
  },
  {
   "cell_type": "code",
   "execution_count": 6,
   "id": "a18d6409",
   "metadata": {},
   "outputs": [],
   "source": [
    "# Remove stop words and join words with commas for 'Words_Text' and 'Words_Title' columns\n",
    "df['Words_Text'] = df['Words_Text'].apply(lambda x: process_words(x, ENGLISH_STOP_WORDS))\n",
    "df['Words_Title'] = df['Words_Title'].apply(lambda x: process_words(x, ENGLISH_STOP_WORDS))\n",
    "df.drop(labels = ['title', 'text', 'key'], axis=1, inplace=True)\n"
   ]
  },
  {
   "cell_type": "code",
   "execution_count": 7,
   "id": "8d76ca22",
   "metadata": {},
   "outputs": [],
   "source": [
    "df.rename(columns = {'Words_Text': \"text\", \n",
    "                   'Words_Title': 'title'}, inplace = True) "
   ]
  },
  {
   "cell_type": "code",
   "execution_count": 8,
   "id": "0f93e55e",
   "metadata": {},
   "outputs": [
    {
     "data": {
      "text/html": [
       "<div>\n",
       "<style scoped>\n",
       "    .dataframe tbody tr th:only-of-type {\n",
       "        vertical-align: middle;\n",
       "    }\n",
       "\n",
       "    .dataframe tbody tr th {\n",
       "        vertical-align: top;\n",
       "    }\n",
       "\n",
       "    .dataframe thead th {\n",
       "        text-align: right;\n",
       "    }\n",
       "</style>\n",
       "<table border=\"1\" class=\"dataframe\">\n",
       "  <thead>\n",
       "    <tr style=\"text-align: right;\">\n",
       "      <th></th>\n",
       "      <th>label</th>\n",
       "      <th>text</th>\n",
       "      <th>title</th>\n",
       "    </tr>\n",
       "  </thead>\n",
       "  <tbody>\n",
       "    <tr>\n",
       "      <th>0</th>\n",
       "      <td>True</td>\n",
       "      <td>[unexpected, death, justice, antonin, scalia, ...</td>\n",
       "      <td>[scalia, death, comes, just, month, court, big...</td>\n",
       "    </tr>\n",
       "    <tr>\n",
       "      <th>1</th>\n",
       "      <td>True</td>\n",
       "      <td>[cnn, ezra, dolezal, love, sister, rachel, dna...</td>\n",
       "      <td>[rachel, dolezal, brother, making, lies]</td>\n",
       "    </tr>\n",
       "    <tr>\n",
       "      <th>2</th>\n",
       "      <td>False</td>\n",
       "      <td>[headlines, conspiracies, cover, ups, ancient,...</td>\n",
       "      <td>[hillary, presidency, bring]</td>\n",
       "    </tr>\n",
       "    <tr>\n",
       "      <th>3</th>\n",
       "      <td>False</td>\n",
       "      <td>[hillary, endorsed, donald, trump, president, ...</td>\n",
       "      <td>[hillary, endorsed, donald, trump, president, ...</td>\n",
       "    </tr>\n",
       "    <tr>\n",
       "      <th>4</th>\n",
       "      <td>False</td>\n",
       "      <td>[october, 2016, 300, civilians, killed, airstr...</td>\n",
       "      <td>[led, coalition, killed, 300, syrian, civilian...</td>\n",
       "    </tr>\n",
       "  </tbody>\n",
       "</table>\n",
       "</div>"
      ],
      "text/plain": [
       "   label  ...                                              title\n",
       "0   True  ...  [scalia, death, comes, just, month, court, big...\n",
       "1   True  ...           [rachel, dolezal, brother, making, lies]\n",
       "2  False  ...                       [hillary, presidency, bring]\n",
       "3  False  ...  [hillary, endorsed, donald, trump, president, ...\n",
       "4  False  ...  [led, coalition, killed, 300, syrian, civilian...\n",
       "\n",
       "[5 rows x 3 columns]"
      ]
     },
     "execution_count": 8,
     "metadata": {},
     "output_type": "execute_result"
    }
   ],
   "source": [
    "#df = pd.read_table(\"current/news_cleaned_utf8.tsv\", delimiter = '\\t')\n",
    "#df.drop(columns=df.columns[0], axis=1,  inplace=True)\n",
    "df['label'].replace({'REAL': True,\n",
    "                     'FAKE' : False}, inplace = True)\n",
    "df.head()"
   ]
  },
  {
   "cell_type": "code",
   "execution_count": 9,
   "id": "1eb7b8ba",
   "metadata": {},
   "outputs": [
    {
     "data": {
      "text/plain": [
       "numpy.bool_"
      ]
     },
     "execution_count": 9,
     "metadata": {},
     "output_type": "execute_result"
    }
   ],
   "source": [
    "type(df['label'][0])"
   ]
  },
  {
   "cell_type": "markdown",
   "id": "a51a00ac",
   "metadata": {},
   "source": [
    "## Word2Vec Implementation\n",
    "\n",
    "#### All setups here, file will be exported labelled with accuracy and number of epochs required\n",
    "##### W2V Documentation used: \n",
    "https://radimrehurek.com/gensim/models/word2vec.html\n",
    "##### Tutorials used: \n",
    "https://medium.com/analytics-vidhya/nlp-tutorial-for-text-classification-in-python-8f19cd17b49e\n",
    "\n",
    "http://ethen8181.github.io/machine-learning/keras/text_classification/word2vec_text_classification.html#Gensim-Implementation\n",
    "\n",
    "https://www.kaggle.com/code/atishadhikari/fake-news-cleaning-word2vec-lstm-99-accuracy\n",
    "\n",
    "https://intellipaat.com/blog/what-is-lstm/\n",
    "\n",
    "https://intothedepthsofdataengineering.wordpress.com/2017/06/26/an-overview-of-word2vec/\n",
    "\n",
    "##### As well as in-class materials. \n"
   ]
  },
  {
   "cell_type": "code",
   "execution_count": 34,
   "id": "6cc9570a",
   "metadata": {},
   "outputs": [],
   "source": [
    "# W2V Model settings\n",
    "source = 'text' #title or text, whether to run W2V on the article's title or bulk text\n",
    "cores = 6 #Number of CPU cores\n",
    "init_vectorsize = 150 #set the dimensions of the vectors used to represent the word set\n",
    "window = 5 #Maximum distance between the current and predicted word within a sentence\n",
    "min_count = 2 #Ignores all words with total frequency lower than this.\n",
    "max_vocab_size = 50000000 #Every 10 million word types need about 1GB of RAM\n",
    "\n",
    "train_epochs = 25 #number of times to iterate over dataset during training\n",
    "w2v_epochs = train_epochs #number of times to iterate over dataset during W2V. Try to keep same size as train epochs\n",
    "test_size = 0.2 #ratio to split test dataset during train, test split\n",
    "max_vectorsize = 1000 #vectorsize padding to equalize final vectors\n",
    "\n",
    "# NN settings, will be a sequential model with an embedding layer, optional LSTM layer, optional dense Layers, and an output layer.  \n",
    "Layer2 = True\n",
    "LSTM_units = 128 #LSTM layer units\"\n",
    "\n",
    "Layer3 = False\n",
    "layer3Act = \"relu\" #Hidden layer 3 activation\n",
    "hidden_nodes_layer3 = 512 #Hidden layer 3 node count\n",
    "\n",
    "Layer4 = False\n",
    "layer4Act = \"relu\" #Hidden layer 4 activation\n",
    "hidden_nodes_layer4 = 128 #Hidden layer 4 node count\n",
    "\n",
    "outputAct = \"sigmoid\" #Output layer activation\n"
   ]
  },
  {
   "cell_type": "code",
   "execution_count": 35,
   "id": "91b9dbf8",
   "metadata": {},
   "outputs": [],
   "source": [
    "# Set data and labels\n",
    "y = df['label']\n",
    "X = df[source]"
   ]
  },
  {
   "cell_type": "code",
   "execution_count": 36,
   "id": "2009a6e5",
   "metadata": {},
   "outputs": [],
   "source": [
    "# Initialize and train the Word2Vec model\n",
    "w2v_model = Word2Vec(sentences = X,\n",
    "    vector_size=init_vectorsize,         # Size of word vectors\n",
    "    window=window,                # Context window size\n",
    "    min_count=min_count,             # Minimum word frequency\n",
    "    workers=cores,           # Number of CPU cores to use\n",
    "    epochs=w2v_epochs,                # Number of training epochs\n",
    "    max_vocab_size=max_vocab_size\n",
    ")"
   ]
  },
  {
   "cell_type": "code",
   "execution_count": 37,
   "id": "c1dc9f01",
   "metadata": {},
   "outputs": [
    {
     "data": {
      "text/plain": [
       "42773"
      ]
     },
     "execution_count": 37,
     "metadata": {},
     "output_type": "execute_result"
    }
   ],
   "source": [
    "# Get the number of keys/words in the model\n",
    "num_keys = len(w2v_model.wv.key_to_index)\n",
    "num_keys"
   ]
  },
  {
   "cell_type": "code",
   "execution_count": 38,
   "id": "c9fdd900",
   "metadata": {},
   "outputs": [],
   "source": [
    "# print(w2v_model.wv.key_to_index.keys()) # This will print all keys that made it into the model. Warning... This can be very long...\n",
    "# print(X[0][:10]) # Check the first 10 word keys of article 1"
   ]
  },
  {
   "cell_type": "code",
   "execution_count": 39,
   "id": "96658db2",
   "metadata": {},
   "outputs": [],
   "source": [
    "# Set up tokenizer and transform X to numberical tokens. \n",
    "tokenizer = tf.keras.preprocessing.text.Tokenizer()\n",
    "tokenizer.fit_on_texts(X)\n",
    "\n",
    "X = tokenizer.texts_to_sequences(X)"
   ]
  },
  {
   "cell_type": "code",
   "execution_count": 40,
   "id": "09c0a324",
   "metadata": {},
   "outputs": [
    {
     "data": {
      "image/png": "[encoded data removed]",
      "text/plain": [
       "<Figure size 432x288 with 1 Axes>"
      ]
     },
     "metadata": {},
     "output_type": "display_data"
    }
   ],
   "source": [
    "# Checking the length of all article's vectors and saving the distribution in a list.\n",
    "vector_lengths = [len(x) for x in X]\n",
    "plt.hist(vector_lengths, bins=500)\n",
    "plt.show()"
   ]
  },
  {
   "cell_type": "code",
   "execution_count": 41,
   "id": "5227a939",
   "metadata": {},
   "outputs": [
    {
     "name": "stdout",
     "output_type": "stream",
     "text": [
      "the longest vector is 2924 words long\n",
      "Max length is 1000, reducing and padding to 1000 terms\n"
     ]
    }
   ],
   "source": [
    "# Setting the W2V vectors to be all the same length, and if they are over the set max, truncates them. \n",
    "longest_vector = np.max(vector_lengths)\n",
    "print(f'the longest vector is {longest_vector} words long')\n",
    "\n",
    "if longest_vector >= max_vectorsize:\n",
    "    longest_vector = max_vectorsize\n",
    "    print(f'Max length is {longest_vector}, reducing and padding to {max_vectorsize} terms')\n",
    "\n",
    "#Making all news of size maxlen defined above\n",
    "X = tf.keras.preprocessing.sequence.pad_sequences(X, maxlen=longest_vector)"
   ]
  },
  {
   "cell_type": "code",
   "execution_count": 42,
   "id": "700e8774",
   "metadata": {},
   "outputs": [],
   "source": [
    "# Setting up the training and testing split as per ratio above.\n",
    "X_train, X_test, y_train, y_test = train_test_split(\n",
    "    X, y, test_size=test_size, stratify=y)"
   ]
  },
  {
   "cell_type": "code",
   "execution_count": 43,
   "id": "8a645c4a",
   "metadata": {},
   "outputs": [],
   "source": [
    "# initializing the W2V model weight matrix to input into the NN initialization layer.\n",
    "weight_matrix = w2v_model.wv.vectors"
   ]
  },
  {
   "cell_type": "code",
   "execution_count": 44,
   "id": "46e07ceb",
   "metadata": {},
   "outputs": [
    {
     "data": {
      "text/plain": [
       "(42773, 150)"
      ]
     },
     "execution_count": 44,
     "metadata": {},
     "output_type": "execute_result"
    }
   ],
   "source": [
    "np.shape(weight_matrix)"
   ]
  },
  {
   "cell_type": "code",
   "execution_count": 45,
   "id": "7c2eb6b7",
   "metadata": {},
   "outputs": [
    {
     "name": "stdout",
     "output_type": "stream",
     "text": [
      "Model: \"sequential_1\"\n",
      "_________________________________________________________________\n",
      " Layer (type)                Output Shape              Param #   \n",
      "=================================================================\n",
      " embedding_1 (Embedding)     (None, 1000, 150)         6415950   \n",
      "                                                                 \n",
      " lstm_1 (LSTM)               (None, 128)               142848    \n",
      "                                                                 \n",
      " dense_1 (Dense)             (None, 1)                 129       \n",
      "                                                                 \n",
      "=================================================================\n",
      "Total params: 6,558,927\n",
      "Trainable params: 142,977\n",
      "Non-trainable params: 6,415,950\n",
      "_________________________________________________________________\n"
     ]
    }
   ],
   "source": [
    "# Define the model - deep neural net, i.e., the number of input features and hidden nodes for each layer.\n",
    "\n",
    "nn = tf.keras.models.Sequential()\n",
    "# First input hidden layer using model weight matrix, set to untrainable.\n",
    "nn.add(tf.keras.layers.Embedding(num_keys, output_dim=init_vectorsize, weights=[weight_matrix], input_length=longest_vector, trainable=False))\n",
    "# Second layer, using an LSTM layer that relies on the first weighted layer.\n",
    "if Layer2 == True:\n",
    "    nn.add(tf.keras.layers.LSTM(units=LSTM_units))\n",
    "# Third hidden layer, a standard layer\n",
    "if Layer3 == True:\n",
    "    nn.add(tf.keras.layers.Dense(units=hidden_nodes_layer3, activation=layer3Act))\n",
    "# Fourth hidden layer, a standard layer\n",
    "if Layer4 == True:\n",
    "    nn.add(tf.keras.layers.Dense(units=hidden_nodes_layer4, activation=layer4Act))\n",
    "# Output layer, binary\n",
    "nn.add(tf.keras.layers.Dense(units=1, activation=outputAct))\n",
    "\n",
    "nn.compile(loss=\"binary_crossentropy\", optimizer=\"adam\", metrics=[\"accuracy\"])\n",
    "#del embedding_vectors\n",
    "\n",
    "# Check the structure of the model\n",
    "nn.summary()"
   ]
  },
  {
   "cell_type": "code",
   "execution_count": 46,
   "id": "89dce1c9",
   "metadata": {},
   "outputs": [
    {
     "name": "stdout",
     "output_type": "stream",
     "text": [
      "Attempting to train model on GPU...\n",
      "Epoch 1/25\n",
      "GPU error. Defaulting to use CPU.\n",
      "Epoch 1/25\n",
      "158/158 [==============================] - 95s 597ms/step - loss: 0.5098 - accuracy: 0.7376\n",
      "Epoch 2/25\n",
      "158/158 [==============================] - 95s 601ms/step - loss: 0.3933 - accuracy: 0.8280\n",
      "Epoch 3/25\n",
      "158/158 [==============================] - 95s 599ms/step - loss: 0.3122 - accuracy: 0.8665\n",
      "Epoch 4/25\n",
      "158/158 [==============================] - 95s 599ms/step - loss: 0.2738 - accuracy: 0.8969\n",
      "Epoch 5/25\n",
      "158/158 [==============================] - 95s 601ms/step - loss: 0.1573 - accuracy: 0.9458\n",
      "Epoch 6/25\n",
      "158/158 [==============================] - 97s 616ms/step - loss: 0.1084 - accuracy: 0.9654\n",
      "Epoch 7/25\n",
      "158/158 [==============================] - 98s 623ms/step - loss: 0.0668 - accuracy: 0.9831\n",
      "Epoch 8/25\n",
      "158/158 [==============================] - 99s 624ms/step - loss: 0.0323 - accuracy: 0.9938\n",
      "Epoch 9/25\n",
      "158/158 [==============================] - 99s 627ms/step - loss: 0.0473 - accuracy: 0.9881\n",
      "Epoch 10/25\n",
      "158/158 [==============================] - 98s 622ms/step - loss: 0.0127 - accuracy: 0.9982\n",
      "Epoch 11/25\n",
      "158/158 [==============================] - 98s 621ms/step - loss: 0.0132 - accuracy: 0.9974\n",
      "Epoch 12/25\n",
      "158/158 [==============================] - 98s 619ms/step - loss: 0.0158 - accuracy: 0.9974\n",
      "Epoch 13/25\n",
      "158/158 [==============================] - 98s 621ms/step - loss: 0.0045 - accuracy: 1.0000\n",
      "Epoch 14/25\n",
      "158/158 [==============================] - 99s 625ms/step - loss: 0.0017 - accuracy: 1.0000\n",
      "Epoch 15/25\n",
      "158/158 [==============================] - 99s 629ms/step - loss: 0.0010 - accuracy: 1.0000\n",
      "Epoch 16/25\n",
      "158/158 [==============================] - 99s 624ms/step - loss: 7.2279e-04 - accuracy: 1.0000\n",
      "Epoch 17/25\n",
      "158/158 [==============================] - 99s 624ms/step - loss: 5.5565e-04 - accuracy: 1.0000\n",
      "Epoch 18/25\n",
      "158/158 [==============================] - 97s 615ms/step - loss: 4.3833e-04 - accuracy: 1.0000\n",
      "Epoch 19/25\n",
      "158/158 [==============================] - 96s 606ms/step - loss: 3.5902e-04 - accuracy: 1.0000\n",
      "Epoch 20/25\n",
      "158/158 [==============================] - 96s 607ms/step - loss: 2.9863e-04 - accuracy: 1.0000\n",
      "Epoch 21/25\n",
      "158/158 [==============================] - 96s 606ms/step - loss: 2.4666e-04 - accuracy: 1.0000\n",
      "Epoch 22/25\n",
      "158/158 [==============================] - 95s 603ms/step - loss: 2.0902e-04 - accuracy: 1.0000\n",
      "Epoch 23/25\n",
      "158/158 [==============================] - 95s 601ms/step - loss: 1.7618e-04 - accuracy: 1.0000\n",
      "Epoch 24/25\n",
      "158/158 [==============================] - 95s 604ms/step - loss: 1.5064e-04 - accuracy: 1.0000\n",
      "Epoch 25/25\n",
      "158/158 [==============================] - 99s 625ms/step - loss: 1.3209e-04 - accuracy: 1.0000\n"
     ]
    }
   ],
   "source": [
    "# Train the model, try/excepts used to select proper hardward device. \n",
    "if len(tf.config.list_physical_devices('GPU')) >= 1:\n",
    "    try:\n",
    "        print('Attempting to train model on GPU...')\n",
    "        with tf.device('/GPU:0'):  #Note: I set up tensorflow with GPU. Change this to CPU:0 in order to obtain standard use. \n",
    "            fit_model = nn.fit(X_train,y_train,epochs=train_epochs)\n",
    "    except:\n",
    "        print('GPU error. Defaulting to use CPU.')\n",
    "        with tf.device('/CPU:0'):  \n",
    "            fit_model = nn.fit(X_train,y_train,epochs=train_epochs)\n",
    "else:\n",
    "    print('No GPU detected. Defaulting to use CPU.')\n",
    "    with tf.device('/CPU:0'): \n",
    "        fit_model = nn.fit(X_train,y_train,epochs=train_epochs)"
   ]
  },
  {
   "cell_type": "code",
   "execution_count": 47,
   "id": "aee9833e",
   "metadata": {},
   "outputs": [
    {
     "name": "stdout",
     "output_type": "stream",
     "text": [
      "Attempting to evaluate model on GPU...\n",
      "GPU error. Defaulting to use CPU.\n",
      "40/40 - 8s - loss: 0.9625 - accuracy: 0.8507 - 8s/epoch - 205ms/step\n",
      "40/40 [==============================] - 8s 204ms/step\n",
      "Loss: 0.9624575972557068, Accuracy: 0.8506751656532288\n"
     ]
    }
   ],
   "source": [
    "# Evaluate the model using the test data, try/excepts used to select proper hardward device.\n",
    "if len(tf.config.list_physical_devices('GPU')) >= 1:\n",
    "    try:\n",
    "        print('Attempting to evaluate model on GPU...')\n",
    "        with tf.device('/GPU:0'):  #Note: I set up tensorflow with GPU. Change this to CPU:0 in order to obtain standard use. \n",
    "            model_loss, model_accuracy = nn.evaluate(X_test,y_test,verbose=2)\n",
    "            predictions = nn.predict(X_test)\n",
    "\n",
    "    except:\n",
    "        print('GPU error. Defaulting to use CPU.')\n",
    "        with tf.device('/CPU:0'):  \n",
    "            model_loss, model_accuracy = nn.evaluate(X_test,y_test,verbose=2)\n",
    "            predictions = nn.predict(X_test)\n",
    "\n",
    "else:\n",
    "    print('No GPU detected. Defaulting to use CPU.')\n",
    "    with tf.device('/CPU:0'): \n",
    "        model_loss, model_accuracy = nn.evaluate(X_test,y_test,verbose=2)\n",
    "        predictions = nn.predict(X_test)\n",
    "        \n",
    "        \n",
    "        \n",
    "print(f\"Loss: {model_loss}, Accuracy: {model_accuracy}\")"
   ]
  },
  {
   "cell_type": "code",
   "execution_count": 48,
   "id": "6bb76b4e",
   "metadata": {},
   "outputs": [
    {
     "name": "stdout",
     "output_type": "stream",
     "text": [
      "Confusion Matrix\n"
     ]
    },
    {
     "data": {
      "text/html": [
       "<div>\n",
       "<style scoped>\n",
       "    .dataframe tbody tr th:only-of-type {\n",
       "        vertical-align: middle;\n",
       "    }\n",
       "\n",
       "    .dataframe tbody tr th {\n",
       "        vertical-align: top;\n",
       "    }\n",
       "\n",
       "    .dataframe thead th {\n",
       "        text-align: right;\n",
       "    }\n",
       "</style>\n",
       "<table border=\"1\" class=\"dataframe\">\n",
       "  <thead>\n",
       "    <tr style=\"text-align: right;\">\n",
       "      <th></th>\n",
       "      <th>Predicted 0</th>\n",
       "      <th>Predicted 1</th>\n",
       "    </tr>\n",
       "  </thead>\n",
       "  <tbody>\n",
       "    <tr>\n",
       "      <th>Actual 0</th>\n",
       "      <td>96</td>\n",
       "      <td>529</td>\n",
       "    </tr>\n",
       "    <tr>\n",
       "      <th>Actual 1</th>\n",
       "      <td>542</td>\n",
       "      <td>92</td>\n",
       "    </tr>\n",
       "  </tbody>\n",
       "</table>\n",
       "</div>"
      ],
      "text/plain": [
       "          Predicted 0  Predicted 1\n",
       "Actual 0           96          529\n",
       "Actual 1          542           92"
      ]
     },
     "metadata": {},
     "output_type": "display_data"
    }
   ],
   "source": [
    "# Collecting the models confusion matrix\n",
    "preds =  [np.round(x) % 2 == 0 for x in predictions]\n",
    "cm = confusion_matrix(y_test, preds)\n",
    "cm_df = pd.DataFrame(\n",
    "    cm, index=[\"Actual 0\", \"Actual 1\"], columns=[\"Predicted 0\", \"Predicted 1\"]\n",
    ")\n",
    "# Displaying results\n",
    "print(\"Confusion Matrix\")\n",
    "display(cm_df)"
   ]
  },
  {
   "cell_type": "code",
   "execution_count": 49,
   "id": "a16808fb",
   "metadata": {},
   "outputs": [],
   "source": [
    "# Export our model to HDF5 file using the data source, accuracy, and epochs as stratifiers. \n",
    "nn.save(f'models/Model_W2V_Project4_{source}_{model_accuracy:.2f}acc_{train_epochs}epochs.h5')"
   ]
  },
  {
   "cell_type": "markdown",
   "id": "52ac165e",
   "metadata": {},
   "source": [
    "#### Extra links:\n",
    "https://asistdl.onlinelibrary.wiley.com/doi/10.1002/pra2.2015.145052010082\n",
    "\n",
    "https://sandipanweb.wordpress.com/2017/06/03/some-nlp-probabilistic-context-free-grammar-pcfg-and-cky-parsing/\n",
    "\n",
    "https://gawron.sdsu.edu/compling/course_core/lectures/prob_parse.htm"
   ]
  },
  {
   "cell_type": "code",
   "execution_count": null,
   "id": "a7f18788",
   "metadata": {},
   "outputs": [],
   "source": []
  }
 ],
 "metadata": {
  "kernelspec": {
   "display_name": "Python 3 (Spyder)",
   "language": "python3",
   "name": "python3"
  },
  "language_info": {
   "codemirror_mode": {
    "name": "ipython",
    "version": 3
   },
   "file_extension": ".py",
   "mimetype": "text/x-python",
   "name": "python",
   "nbconvert_exporter": "python",
   "pygments_lexer": "ipython3",
   "version": "3.10.12"
  }
 },
 "nbformat": 4,
 "nbformat_minor": 5
}
